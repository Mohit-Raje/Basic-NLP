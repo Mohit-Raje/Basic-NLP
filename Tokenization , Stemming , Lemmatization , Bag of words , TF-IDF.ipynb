{
 "cells": [
  {
   "cell_type": "markdown",
   "id": "9b171fff-b908-4c90-83b2-e3b4da64a0bd",
   "metadata": {},
   "source": [
    "## NLP"
   ]
  },
  {
   "cell_type": "code",
   "execution_count": 1,
   "id": "163da3f5-badd-4536-a8b0-436ce8a37cb4",
   "metadata": {
    "tags": []
   },
   "outputs": [],
   "source": [
    "import nltk"
   ]
  },
  {
   "cell_type": "code",
   "execution_count": 2,
   "id": "d5bcbbf0-f071-4520-9312-074f7de40428",
   "metadata": {
    "tags": []
   },
   "outputs": [
    {
     "name": "stdout",
     "output_type": "stream",
     "text": [
      "showing info https://raw.githubusercontent.com/nltk/nltk_data/gh-pages/index.xml\n"
     ]
    },
    {
     "data": {
      "text/plain": [
       "True"
      ]
     },
     "execution_count": 2,
     "metadata": {},
     "output_type": "execute_result"
    }
   ],
   "source": [
    "## Click on download all once executed\n",
    "\n",
    "nltk.download()"
   ]
  },
  {
   "cell_type": "markdown",
   "id": "4aec9624-ba93-4790-9598-f5a1a076b259",
   "metadata": {},
   "source": [
    "## Tokenization"
   ]
  },
  {
   "cell_type": "code",
   "execution_count": 2,
   "id": "791751c6-cbd0-4e00-8d10-758056d32689",
   "metadata": {},
   "outputs": [],
   "source": [
    "paragraph=\"\"\"It's not only writers who can benefit from this free online tool. If you're a programmer who's working on a project where blocks of text are needed, this tool can be a great way to get that. It's a good way to test your programming and that the tool being created is working well.\n",
    "\n",
    "Above are a few examples of how the random paragraph generator can be beneficial. The best way to see if this random paragraph picker will be useful for your intended purposes is to give it a try. Generate a number of paragraphs to see if they are beneficial to your current project.\n",
    "\n",
    "If you do find this paragraph tool useful, please do us a favor and let us know how you're using it. It's greatly beneficial for us to know the different ways this tool is being used so we can improve it with updates. This is especially true since there are times when the generators we create get used in completely unanticipated ways from when we initially created them. If you have the time, please send us a quick note on what you'd like to see changed or added to make it better in the future.\"\"\""
   ]
  },
  {
   "cell_type": "code",
   "execution_count": 3,
   "id": "0d3b4d59-ce0b-4b9f-a5a2-45ce1f767a35",
   "metadata": {
    "tags": []
   },
   "outputs": [
    {
     "data": {
      "text/plain": [
       "\"It's not only writers who can benefit from this free online tool. If you're a programmer who's working on a project where blocks of text are needed, this tool can be a great way to get that. It's a good way to test your programming and that the tool being created is working well.\\n\\nAbove are a few examples of how the random paragraph generator can be beneficial. The best way to see if this random paragraph picker will be useful for your intended purposes is to give it a try. Generate a number of paragraphs to see if they are beneficial to your current project.\\n\\nIf you do find this paragraph tool useful, please do us a favor and let us know how you're using it. It's greatly beneficial for us to know the different ways this tool is being used so we can improve it with updates. This is especially true since there are times when the generators we create get used in completely unanticipated ways from when we initially created them. If you have the time, please send us a quick note on what you'd like to see changed or added to make it better in the future.\""
      ]
     },
     "execution_count": 3,
     "metadata": {},
     "output_type": "execute_result"
    }
   ],
   "source": [
    "paragraph"
   ]
  },
  {
   "cell_type": "code",
   "execution_count": 4,
   "id": "3833915f-a392-4a30-935a-f92a8543b681",
   "metadata": {
    "tags": []
   },
   "outputs": [],
   "source": [
    "sentences=nltk.sent_tokenize(paragraph)"
   ]
  },
  {
   "cell_type": "code",
   "execution_count": 5,
   "id": "63e4bcb3-71ca-47de-b6ba-8820db00ba0f",
   "metadata": {
    "tags": []
   },
   "outputs": [
    {
     "data": {
      "text/plain": [
       "[\"It's not only writers who can benefit from this free online tool.\",\n",
       " \"If you're a programmer who's working on a project where blocks of text are needed, this tool can be a great way to get that.\",\n",
       " \"It's a good way to test your programming and that the tool being created is working well.\",\n",
       " 'Above are a few examples of how the random paragraph generator can be beneficial.',\n",
       " 'The best way to see if this random paragraph picker will be useful for your intended purposes is to give it a try.',\n",
       " 'Generate a number of paragraphs to see if they are beneficial to your current project.',\n",
       " \"If you do find this paragraph tool useful, please do us a favor and let us know how you're using it.\",\n",
       " \"It's greatly beneficial for us to know the different ways this tool is being used so we can improve it with updates.\",\n",
       " 'This is especially true since there are times when the generators we create get used in completely unanticipated ways from when we initially created them.',\n",
       " \"If you have the time, please send us a quick note on what you'd like to see changed or added to make it better in the future.\"]"
      ]
     },
     "execution_count": 5,
     "metadata": {},
     "output_type": "execute_result"
    }
   ],
   "source": [
    "sentences"
   ]
  },
  {
   "cell_type": "code",
   "execution_count": 6,
   "id": "8a26b699-d280-4853-b5de-16cbedcc4036",
   "metadata": {
    "tags": []
   },
   "outputs": [],
   "source": [
    "word=nltk.word_tokenize(paragraph)"
   ]
  },
  {
   "cell_type": "code",
   "execution_count": 7,
   "id": "6fcc870a-cd69-4777-9bd3-5012c3db34de",
   "metadata": {
    "tags": []
   },
   "outputs": [
    {
     "data": {
      "text/plain": [
       "['It',\n",
       " \"'s\",\n",
       " 'not',\n",
       " 'only',\n",
       " 'writers',\n",
       " 'who',\n",
       " 'can',\n",
       " 'benefit',\n",
       " 'from',\n",
       " 'this',\n",
       " 'free',\n",
       " 'online',\n",
       " 'tool',\n",
       " '.',\n",
       " 'If',\n",
       " 'you',\n",
       " \"'re\",\n",
       " 'a',\n",
       " 'programmer',\n",
       " 'who',\n",
       " \"'s\",\n",
       " 'working',\n",
       " 'on',\n",
       " 'a',\n",
       " 'project',\n",
       " 'where',\n",
       " 'blocks',\n",
       " 'of',\n",
       " 'text',\n",
       " 'are',\n",
       " 'needed',\n",
       " ',',\n",
       " 'this',\n",
       " 'tool',\n",
       " 'can',\n",
       " 'be',\n",
       " 'a',\n",
       " 'great',\n",
       " 'way',\n",
       " 'to',\n",
       " 'get',\n",
       " 'that',\n",
       " '.',\n",
       " 'It',\n",
       " \"'s\",\n",
       " 'a',\n",
       " 'good',\n",
       " 'way',\n",
       " 'to',\n",
       " 'test',\n",
       " 'your',\n",
       " 'programming',\n",
       " 'and',\n",
       " 'that',\n",
       " 'the',\n",
       " 'tool',\n",
       " 'being',\n",
       " 'created',\n",
       " 'is',\n",
       " 'working',\n",
       " 'well',\n",
       " '.',\n",
       " 'Above',\n",
       " 'are',\n",
       " 'a',\n",
       " 'few',\n",
       " 'examples',\n",
       " 'of',\n",
       " 'how',\n",
       " 'the',\n",
       " 'random',\n",
       " 'paragraph',\n",
       " 'generator',\n",
       " 'can',\n",
       " 'be',\n",
       " 'beneficial',\n",
       " '.',\n",
       " 'The',\n",
       " 'best',\n",
       " 'way',\n",
       " 'to',\n",
       " 'see',\n",
       " 'if',\n",
       " 'this',\n",
       " 'random',\n",
       " 'paragraph',\n",
       " 'picker',\n",
       " 'will',\n",
       " 'be',\n",
       " 'useful',\n",
       " 'for',\n",
       " 'your',\n",
       " 'intended',\n",
       " 'purposes',\n",
       " 'is',\n",
       " 'to',\n",
       " 'give',\n",
       " 'it',\n",
       " 'a',\n",
       " 'try',\n",
       " '.',\n",
       " 'Generate',\n",
       " 'a',\n",
       " 'number',\n",
       " 'of',\n",
       " 'paragraphs',\n",
       " 'to',\n",
       " 'see',\n",
       " 'if',\n",
       " 'they',\n",
       " 'are',\n",
       " 'beneficial',\n",
       " 'to',\n",
       " 'your',\n",
       " 'current',\n",
       " 'project',\n",
       " '.',\n",
       " 'If',\n",
       " 'you',\n",
       " 'do',\n",
       " 'find',\n",
       " 'this',\n",
       " 'paragraph',\n",
       " 'tool',\n",
       " 'useful',\n",
       " ',',\n",
       " 'please',\n",
       " 'do',\n",
       " 'us',\n",
       " 'a',\n",
       " 'favor',\n",
       " 'and',\n",
       " 'let',\n",
       " 'us',\n",
       " 'know',\n",
       " 'how',\n",
       " 'you',\n",
       " \"'re\",\n",
       " 'using',\n",
       " 'it',\n",
       " '.',\n",
       " 'It',\n",
       " \"'s\",\n",
       " 'greatly',\n",
       " 'beneficial',\n",
       " 'for',\n",
       " 'us',\n",
       " 'to',\n",
       " 'know',\n",
       " 'the',\n",
       " 'different',\n",
       " 'ways',\n",
       " 'this',\n",
       " 'tool',\n",
       " 'is',\n",
       " 'being',\n",
       " 'used',\n",
       " 'so',\n",
       " 'we',\n",
       " 'can',\n",
       " 'improve',\n",
       " 'it',\n",
       " 'with',\n",
       " 'updates',\n",
       " '.',\n",
       " 'This',\n",
       " 'is',\n",
       " 'especially',\n",
       " 'true',\n",
       " 'since',\n",
       " 'there',\n",
       " 'are',\n",
       " 'times',\n",
       " 'when',\n",
       " 'the',\n",
       " 'generators',\n",
       " 'we',\n",
       " 'create',\n",
       " 'get',\n",
       " 'used',\n",
       " 'in',\n",
       " 'completely',\n",
       " 'unanticipated',\n",
       " 'ways',\n",
       " 'from',\n",
       " 'when',\n",
       " 'we',\n",
       " 'initially',\n",
       " 'created',\n",
       " 'them',\n",
       " '.',\n",
       " 'If',\n",
       " 'you',\n",
       " 'have',\n",
       " 'the',\n",
       " 'time',\n",
       " ',',\n",
       " 'please',\n",
       " 'send',\n",
       " 'us',\n",
       " 'a',\n",
       " 'quick',\n",
       " 'note',\n",
       " 'on',\n",
       " 'what',\n",
       " 'you',\n",
       " \"'d\",\n",
       " 'like',\n",
       " 'to',\n",
       " 'see',\n",
       " 'changed',\n",
       " 'or',\n",
       " 'added',\n",
       " 'to',\n",
       " 'make',\n",
       " 'it',\n",
       " 'better',\n",
       " 'in',\n",
       " 'the',\n",
       " 'future',\n",
       " '.']"
      ]
     },
     "execution_count": 7,
     "metadata": {},
     "output_type": "execute_result"
    }
   ],
   "source": [
    "word"
   ]
  },
  {
   "cell_type": "code",
   "execution_count": 8,
   "id": "fb56a658-0a11-4a1b-b858-880a6d15ff3c",
   "metadata": {
    "tags": []
   },
   "outputs": [
    {
     "name": "stdout",
     "output_type": "stream",
     "text": [
      "221\n"
     ]
    }
   ],
   "source": [
    "print(len(word))"
   ]
  },
  {
   "cell_type": "markdown",
   "id": "7f20c945-13d8-4009-b0e8-b891cfce045b",
   "metadata": {},
   "source": [
    "## Stemming"
   ]
  },
  {
   "cell_type": "code",
   "execution_count": 9,
   "id": "5f8aa0e1-b094-46e4-8811-fbed768ebca3",
   "metadata": {
    "tags": []
   },
   "outputs": [],
   "source": [
    "from nltk.corpus import stopwords\n",
    "from nltk.stem import PorterStemmer"
   ]
  },
  {
   "cell_type": "code",
   "execution_count": 10,
   "id": "a75a2663-c8fa-4a5d-b194-64733c6c1c16",
   "metadata": {
    "tags": []
   },
   "outputs": [],
   "source": [
    "sentences=nltk.sent_tokenize(paragraph)"
   ]
  },
  {
   "cell_type": "code",
   "execution_count": 11,
   "id": "2a63f855-8f3f-4fb4-9b22-3c0b1a1ae97c",
   "metadata": {
    "tags": []
   },
   "outputs": [],
   "source": [
    "stemmer=PorterStemmer()"
   ]
  },
  {
   "cell_type": "code",
   "execution_count": 12,
   "id": "35fdbab7-e9d4-4e1d-9f42-0676c4593368",
   "metadata": {
    "tags": []
   },
   "outputs": [
    {
     "name": "stdout",
     "output_type": "stream",
     "text": [
      "['i', 'me', 'my', 'myself', 'we', 'our', 'ours', 'ourselves', 'you', \"you're\", \"you've\", \"you'll\", \"you'd\", 'your', 'yours', 'yourself', 'yourselves', 'he', 'him', 'his', 'himself', 'she', \"she's\", 'her', 'hers', 'herself', 'it', \"it's\", 'its', 'itself', 'they', 'them', 'their', 'theirs', 'themselves', 'what', 'which', 'who', 'whom', 'this', 'that', \"that'll\", 'these', 'those', 'am', 'is', 'are', 'was', 'were', 'be', 'been', 'being', 'have', 'has', 'had', 'having', 'do', 'does', 'did', 'doing', 'a', 'an', 'the', 'and', 'but', 'if', 'or', 'because', 'as', 'until', 'while', 'of', 'at', 'by', 'for', 'with', 'about', 'against', 'between', 'into', 'through', 'during', 'before', 'after', 'above', 'below', 'to', 'from', 'up', 'down', 'in', 'out', 'on', 'off', 'over', 'under', 'again', 'further', 'then', 'once', 'here', 'there', 'when', 'where', 'why', 'how', 'all', 'any', 'both', 'each', 'few', 'more', 'most', 'other', 'some', 'such', 'no', 'nor', 'not', 'only', 'own', 'same', 'so', 'than', 'too', 'very', 's', 't', 'can', 'will', 'just', 'don', \"don't\", 'should', \"should've\", 'now', 'd', 'll', 'm', 'o', 're', 've', 'y', 'ain', 'aren', \"aren't\", 'couldn', \"couldn't\", 'didn', \"didn't\", 'doesn', \"doesn't\", 'hadn', \"hadn't\", 'hasn', \"hasn't\", 'haven', \"haven't\", 'isn', \"isn't\", 'ma', 'mightn', \"mightn't\", 'mustn', \"mustn't\", 'needn', \"needn't\", 'shan', \"shan't\", 'shouldn', \"shouldn't\", 'wasn', \"wasn't\", 'weren', \"weren't\", 'won', \"won't\", 'wouldn', \"wouldn't\"]\n",
      "179\n"
     ]
    }
   ],
   "source": [
    "print(stopwords.words('english'))\n",
    "print(len(stopwords.words('english')))"
   ]
  },
  {
   "cell_type": "code",
   "execution_count": 13,
   "id": "52877402-eccf-4666-a3cd-7dfc2b5121b6",
   "metadata": {
    "tags": []
   },
   "outputs": [],
   "source": [
    "## Steeming and tokenization\n",
    "\n",
    "for i in range(len(sentences)):\n",
    "    words=nltk.word_tokenize(sentences[i])\n",
    "    stem_word=[stemmer.stem(word) for word in words if word not in stopwords.words('english')]\n",
    "    sentences[i]=\" \".join(stem_word)"
   ]
  },
  {
   "cell_type": "code",
   "execution_count": 14,
   "id": "cf55a67a-c0a3-41a0-9833-00ed1591bd50",
   "metadata": {
    "tags": []
   },
   "outputs": [
    {
     "name": "stdout",
     "output_type": "stream",
     "text": [
      "[\"it 's writer benefit free onlin tool .\", \"if 're programm 's work project block text need , tool great way get .\", \"it 's good way test program tool creat work well .\", 'abov exampl random paragraph gener benefici .', 'the best way see random paragraph picker use intend purpos give tri .', 'gener number paragraph see benefici current project .', \"if find paragraph tool use , pleas us favor let us know 're use .\", \"it 's greatli benefici us know differ way tool use improv updat .\", 'thi especi true sinc time gener creat get use complet unanticip way initi creat .', \"if time , pleas send us quick note 'd like see chang ad make better futur .\"]\n"
     ]
    }
   ],
   "source": [
    "print(sentences)\n",
    "#sentence[0] =It's not only writers who can benefit from this free online tool.\n",
    "# After stemming :\n",
    "# sentence[0]= it 's writer benefit free onlin tool ."
   ]
  },
  {
   "cell_type": "markdown",
   "id": "4f9527f4-3a95-44f0-a12f-07f14c05b87f",
   "metadata": {},
   "source": [
    "## Lemmatization"
   ]
  },
  {
   "cell_type": "code",
   "execution_count": 15,
   "id": "3267e943-34c0-41e7-9cf4-4f265d388dce",
   "metadata": {
    "tags": []
   },
   "outputs": [],
   "source": [
    "from nltk.stem import WordNetLemmatizer\n",
    "from nltk.corpus import stopwords"
   ]
  },
  {
   "cell_type": "code",
   "execution_count": 16,
   "id": "f099804d-6d18-4afa-acd8-7549a3f500b0",
   "metadata": {
    "tags": []
   },
   "outputs": [],
   "source": [
    "sentences=nltk.sent_tokenize(paragraph)"
   ]
  },
  {
   "cell_type": "code",
   "execution_count": 17,
   "id": "3f3b6261-f85b-468f-ab20-c6c8a90b81b8",
   "metadata": {
    "tags": []
   },
   "outputs": [],
   "source": [
    "lem=WordNetLemmatizer()"
   ]
  },
  {
   "cell_type": "code",
   "execution_count": 18,
   "id": "7895781c-b4de-41a2-a860-eab0bc2768e5",
   "metadata": {
    "tags": []
   },
   "outputs": [],
   "source": [
    "for i in range(len(sentences)):\n",
    "    word=nltk.word_tokenize(sentences[i])\n",
    "    lem_word=[lem.lemmatize(word) for word in word if word not in stopwords.words('english')]\n",
    "    sentences[i]=\" \".join(lem_word)"
   ]
  },
  {
   "cell_type": "code",
   "execution_count": 19,
   "id": "78173d2c-7c1c-4dab-b3c2-8a5d698caecb",
   "metadata": {
    "tags": []
   },
   "outputs": [
    {
     "data": {
      "text/plain": [
       "[\"It 's writer benefit free online tool .\",\n",
       " \"If 're programmer 's working project block text needed , tool great way get .\",\n",
       " \"It 's good way test programming tool created working well .\",\n",
       " 'Above example random paragraph generator beneficial .',\n",
       " 'The best way see random paragraph picker useful intended purpose give try .',\n",
       " 'Generate number paragraph see beneficial current project .',\n",
       " \"If find paragraph tool useful , please u favor let u know 're using .\",\n",
       " \"It 's greatly beneficial u know different way tool used improve update .\",\n",
       " 'This especially true since time generator create get used completely unanticipated way initially created .',\n",
       " \"If time , please send u quick note 'd like see changed added make better future .\"]"
      ]
     },
     "execution_count": 19,
     "metadata": {},
     "output_type": "execute_result"
    }
   ],
   "source": [
    "sentences"
   ]
  },
  {
   "cell_type": "markdown",
   "id": "cb63b0b9-2e78-438b-ac88-41e5f99b7ece",
   "metadata": {},
   "source": [
    "## Bag of words"
   ]
  },
  {
   "cell_type": "markdown",
   "id": "e85d2ef0-bbe5-4041-976e-3a243ed2f9ee",
   "metadata": {},
   "source": [
    "#### Cleaning of the text"
   ]
  },
  {
   "cell_type": "code",
   "execution_count": 20,
   "id": "63df7886-acb9-4e0b-afd5-da65bda1e8e8",
   "metadata": {
    "tags": []
   },
   "outputs": [],
   "source": [
    "import re\n",
    "from nltk.corpus import stopwords\n",
    "from nltk.stem.porter import PorterStemmer\n",
    "from nltk.stem import WordNetLemmatizer\n",
    "import string"
   ]
  },
  {
   "cell_type": "code",
   "execution_count": 21,
   "id": "96bfc534-1924-4b3d-8c2d-3c773906a37c",
   "metadata": {
    "tags": []
   },
   "outputs": [],
   "source": [
    "ps=PorterStemmer()\n",
    "wornet=WordNetLemmatizer()"
   ]
  },
  {
   "cell_type": "code",
   "execution_count": 22,
   "id": "ecad0c89-3637-4b1e-a7fd-823e7e0fece8",
   "metadata": {
    "tags": []
   },
   "outputs": [
    {
     "name": "stdout",
     "output_type": "stream",
     "text": [
      "10\n"
     ]
    }
   ],
   "source": [
    "sentences=nltk.sent_tokenize(paragraph)\n",
    "print(len(sentences))"
   ]
  },
  {
   "cell_type": "code",
   "execution_count": 23,
   "id": "b73546fb-1906-4701-b879-e1282dee62cc",
   "metadata": {
    "tags": []
   },
   "outputs": [],
   "source": [
    "corpus=[] ## After cleaning the text teh sentenec will be kept in corpus"
   ]
  },
  {
   "cell_type": "code",
   "execution_count": 24,
   "id": "3fae6e8b-1797-4647-85eb-13fe9c236621",
   "metadata": {
    "tags": []
   },
   "outputs": [],
   "source": [
    "for i in range(len(sentences)):\n",
    "    review=re.sub('[^a-zA-Z]' , ' ' , sentences[i])\n",
    "    review=review.lower()\n",
    "    review=review.split()\n",
    "    review=[wornet.lemmatize(word) for word in review if word not in stopwords.words('english')]\n",
    "    review=\" \".join(review)\n",
    "    corpus.append(review)"
   ]
  },
  {
   "cell_type": "code",
   "execution_count": 25,
   "id": "87ffc35d-46bb-454a-b0ce-7bdeb1cd38df",
   "metadata": {
    "tags": []
   },
   "outputs": [
    {
     "name": "stdout",
     "output_type": "stream",
     "text": [
      "['writer benefit free online tool', 'programmer working project block text needed tool great way get', 'good way test programming tool created working well', 'example random paragraph generator beneficial', 'best way see random paragraph picker useful intended purpose give try', 'generate number paragraph see beneficial current project', 'find paragraph tool useful please u favor let u know using', 'greatly beneficial u know different way tool used improve update', 'especially true since time generator create get used completely unanticipated way initially created', 'time please send u quick note like see changed added make better future']\n"
     ]
    }
   ],
   "source": [
    "print(corpus)"
   ]
  },
  {
   "cell_type": "markdown",
   "id": "6c5391b7-de4d-48c5-a139-b7b1fea4bac9",
   "metadata": {},
   "source": [
    "#### Creating a bag of word"
   ]
  },
  {
   "cell_type": "code",
   "execution_count": 26,
   "id": "4d154329-965a-4c92-a5be-a4a9bc535d27",
   "metadata": {
    "tags": []
   },
   "outputs": [],
   "source": [
    "from sklearn.feature_extraction.text import CountVectorizer"
   ]
  },
  {
   "cell_type": "code",
   "execution_count": 27,
   "id": "7198d076-222d-4ae1-a794-6178978ca5ed",
   "metadata": {
    "tags": []
   },
   "outputs": [],
   "source": [
    "cv=CountVectorizer()"
   ]
  },
  {
   "cell_type": "code",
   "execution_count": 28,
   "id": "0e179d66-5da0-45a3-a8e7-01ff48da0513",
   "metadata": {
    "tags": []
   },
   "outputs": [],
   "source": [
    "bow=cv.fit_transform(corpus).toarray()"
   ]
  },
  {
   "cell_type": "code",
   "execution_count": 29,
   "id": "5148285e-ee72-4840-afed-95f1094ea62f",
   "metadata": {
    "tags": []
   },
   "outputs": [
    {
     "name": "stdout",
     "output_type": "stream",
     "text": [
      "[[0 0 1 0 0 0 0 0 0 0 0 0 0 0 0 0 1 0 0 0 0 0 0 0 0 0 0 0 0 0 0 0 0 0 0 1\n",
      "  0 0 0 0 0 0 0 0 0 0 0 0 0 0 0 1 0 0 0 0 0 0 0 0 0 0 1]\n",
      " [0 0 0 0 0 1 0 0 0 0 0 0 0 0 0 0 0 0 0 0 1 0 0 1 0 0 0 0 0 0 0 0 1 0 0 0\n",
      "  0 0 0 1 0 1 0 0 0 0 0 0 0 1 0 1 0 0 0 0 0 0 0 1 0 1 0]\n",
      " [0 0 0 0 0 0 0 0 0 1 0 0 0 0 0 0 0 0 0 0 0 0 1 0 0 0 0 0 0 0 0 0 0 0 0 0\n",
      "  0 0 0 0 1 0 0 0 0 0 0 0 1 0 0 1 0 0 0 0 0 0 0 1 1 1 0]\n",
      " [0 1 0 0 0 0 0 0 0 0 0 0 0 1 0 0 0 0 0 1 0 0 0 0 0 0 0 0 0 0 0 0 0 0 0 0\n",
      "  1 0 0 0 0 0 0 0 1 0 0 0 0 0 0 0 0 0 0 0 0 0 0 0 0 0 0]\n",
      " [0 0 0 1 0 0 0 0 0 0 0 0 0 0 0 0 0 0 0 0 0 1 0 0 0 0 0 1 0 0 0 0 0 0 0 0\n",
      "  1 1 0 0 0 0 1 0 1 1 0 0 0 0 0 0 0 1 0 0 0 1 0 1 0 0 0]\n",
      " [0 1 0 0 0 0 0 0 0 0 1 0 0 0 0 0 0 0 1 0 0 0 0 0 0 0 0 0 0 0 0 0 0 0 1 0\n",
      "  1 0 0 0 0 1 0 0 0 1 0 0 0 0 0 0 0 0 0 0 0 0 0 0 0 0 0]\n",
      " [0 0 0 0 0 0 0 0 0 0 0 0 0 0 1 1 0 0 0 0 0 0 0 0 0 0 0 0 1 1 0 0 0 0 0 0\n",
      "  1 0 1 0 0 0 0 0 0 0 0 0 0 0 0 1 0 0 0 0 0 1 1 0 0 0 0]\n",
      " [0 1 0 0 0 0 0 0 0 0 0 1 0 0 0 0 0 0 0 0 0 0 0 0 1 1 0 0 1 0 0 0 0 0 0 0\n",
      "  0 0 0 0 0 0 0 0 0 0 0 0 0 0 0 1 0 0 0 1 1 0 0 1 0 0 0]\n",
      " [0 0 0 0 0 0 0 1 1 1 0 0 1 0 0 0 0 0 0 1 1 0 0 0 0 0 1 0 0 0 0 0 0 0 0 0\n",
      "  0 0 0 0 0 0 0 0 0 0 0 1 0 0 1 0 1 0 1 0 1 0 0 1 0 0 0]\n",
      " [1 0 0 0 1 0 1 0 0 0 0 0 0 0 0 0 0 1 0 0 0 0 0 0 0 0 0 0 0 0 1 1 0 1 0 0\n",
      "  0 0 1 0 0 0 0 1 0 1 1 0 0 0 1 0 0 0 0 0 0 0 0 0 0 0 0]]\n"
     ]
    }
   ],
   "source": [
    "print(bow)"
   ]
  },
  {
   "cell_type": "code",
   "execution_count": 30,
   "id": "098d9b5e-42af-4dc7-add6-95427c932810",
   "metadata": {
    "tags": []
   },
   "outputs": [],
   "source": [
    "import pandas as pd\n",
    "import numpy as np"
   ]
  },
  {
   "cell_type": "code",
   "execution_count": 31,
   "id": "41bc3534-ec62-4dc1-96b2-c39a25de84c6",
   "metadata": {
    "tags": []
   },
   "outputs": [],
   "source": [
    "temp_df=pd.DataFrame(data=bow , columns=cv.get_feature_names_out())"
   ]
  },
  {
   "cell_type": "code",
   "execution_count": 32,
   "id": "cd167f1b-2b35-42b5-b4ef-c34e70621201",
   "metadata": {
    "tags": []
   },
   "outputs": [
    {
     "data": {
      "text/html": [
       "<div>\n",
       "<style scoped>\n",
       "    .dataframe tbody tr th:only-of-type {\n",
       "        vertical-align: middle;\n",
       "    }\n",
       "\n",
       "    .dataframe tbody tr th {\n",
       "        vertical-align: top;\n",
       "    }\n",
       "\n",
       "    .dataframe thead th {\n",
       "        text-align: right;\n",
       "    }\n",
       "</style>\n",
       "<table border=\"1\" class=\"dataframe\">\n",
       "  <thead>\n",
       "    <tr style=\"text-align: right;\">\n",
       "      <th></th>\n",
       "      <th>added</th>\n",
       "      <th>beneficial</th>\n",
       "      <th>benefit</th>\n",
       "      <th>best</th>\n",
       "      <th>better</th>\n",
       "      <th>block</th>\n",
       "      <th>changed</th>\n",
       "      <th>completely</th>\n",
       "      <th>create</th>\n",
       "      <th>created</th>\n",
       "      <th>...</th>\n",
       "      <th>try</th>\n",
       "      <th>unanticipated</th>\n",
       "      <th>update</th>\n",
       "      <th>used</th>\n",
       "      <th>useful</th>\n",
       "      <th>using</th>\n",
       "      <th>way</th>\n",
       "      <th>well</th>\n",
       "      <th>working</th>\n",
       "      <th>writer</th>\n",
       "    </tr>\n",
       "  </thead>\n",
       "  <tbody>\n",
       "    <tr>\n",
       "      <th>0</th>\n",
       "      <td>0</td>\n",
       "      <td>0</td>\n",
       "      <td>1</td>\n",
       "      <td>0</td>\n",
       "      <td>0</td>\n",
       "      <td>0</td>\n",
       "      <td>0</td>\n",
       "      <td>0</td>\n",
       "      <td>0</td>\n",
       "      <td>0</td>\n",
       "      <td>...</td>\n",
       "      <td>0</td>\n",
       "      <td>0</td>\n",
       "      <td>0</td>\n",
       "      <td>0</td>\n",
       "      <td>0</td>\n",
       "      <td>0</td>\n",
       "      <td>0</td>\n",
       "      <td>0</td>\n",
       "      <td>0</td>\n",
       "      <td>1</td>\n",
       "    </tr>\n",
       "    <tr>\n",
       "      <th>1</th>\n",
       "      <td>0</td>\n",
       "      <td>0</td>\n",
       "      <td>0</td>\n",
       "      <td>0</td>\n",
       "      <td>0</td>\n",
       "      <td>1</td>\n",
       "      <td>0</td>\n",
       "      <td>0</td>\n",
       "      <td>0</td>\n",
       "      <td>0</td>\n",
       "      <td>...</td>\n",
       "      <td>0</td>\n",
       "      <td>0</td>\n",
       "      <td>0</td>\n",
       "      <td>0</td>\n",
       "      <td>0</td>\n",
       "      <td>0</td>\n",
       "      <td>1</td>\n",
       "      <td>0</td>\n",
       "      <td>1</td>\n",
       "      <td>0</td>\n",
       "    </tr>\n",
       "    <tr>\n",
       "      <th>2</th>\n",
       "      <td>0</td>\n",
       "      <td>0</td>\n",
       "      <td>0</td>\n",
       "      <td>0</td>\n",
       "      <td>0</td>\n",
       "      <td>0</td>\n",
       "      <td>0</td>\n",
       "      <td>0</td>\n",
       "      <td>0</td>\n",
       "      <td>1</td>\n",
       "      <td>...</td>\n",
       "      <td>0</td>\n",
       "      <td>0</td>\n",
       "      <td>0</td>\n",
       "      <td>0</td>\n",
       "      <td>0</td>\n",
       "      <td>0</td>\n",
       "      <td>1</td>\n",
       "      <td>1</td>\n",
       "      <td>1</td>\n",
       "      <td>0</td>\n",
       "    </tr>\n",
       "    <tr>\n",
       "      <th>3</th>\n",
       "      <td>0</td>\n",
       "      <td>1</td>\n",
       "      <td>0</td>\n",
       "      <td>0</td>\n",
       "      <td>0</td>\n",
       "      <td>0</td>\n",
       "      <td>0</td>\n",
       "      <td>0</td>\n",
       "      <td>0</td>\n",
       "      <td>0</td>\n",
       "      <td>...</td>\n",
       "      <td>0</td>\n",
       "      <td>0</td>\n",
       "      <td>0</td>\n",
       "      <td>0</td>\n",
       "      <td>0</td>\n",
       "      <td>0</td>\n",
       "      <td>0</td>\n",
       "      <td>0</td>\n",
       "      <td>0</td>\n",
       "      <td>0</td>\n",
       "    </tr>\n",
       "    <tr>\n",
       "      <th>4</th>\n",
       "      <td>0</td>\n",
       "      <td>0</td>\n",
       "      <td>0</td>\n",
       "      <td>1</td>\n",
       "      <td>0</td>\n",
       "      <td>0</td>\n",
       "      <td>0</td>\n",
       "      <td>0</td>\n",
       "      <td>0</td>\n",
       "      <td>0</td>\n",
       "      <td>...</td>\n",
       "      <td>1</td>\n",
       "      <td>0</td>\n",
       "      <td>0</td>\n",
       "      <td>0</td>\n",
       "      <td>1</td>\n",
       "      <td>0</td>\n",
       "      <td>1</td>\n",
       "      <td>0</td>\n",
       "      <td>0</td>\n",
       "      <td>0</td>\n",
       "    </tr>\n",
       "    <tr>\n",
       "      <th>5</th>\n",
       "      <td>0</td>\n",
       "      <td>1</td>\n",
       "      <td>0</td>\n",
       "      <td>0</td>\n",
       "      <td>0</td>\n",
       "      <td>0</td>\n",
       "      <td>0</td>\n",
       "      <td>0</td>\n",
       "      <td>0</td>\n",
       "      <td>0</td>\n",
       "      <td>...</td>\n",
       "      <td>0</td>\n",
       "      <td>0</td>\n",
       "      <td>0</td>\n",
       "      <td>0</td>\n",
       "      <td>0</td>\n",
       "      <td>0</td>\n",
       "      <td>0</td>\n",
       "      <td>0</td>\n",
       "      <td>0</td>\n",
       "      <td>0</td>\n",
       "    </tr>\n",
       "    <tr>\n",
       "      <th>6</th>\n",
       "      <td>0</td>\n",
       "      <td>0</td>\n",
       "      <td>0</td>\n",
       "      <td>0</td>\n",
       "      <td>0</td>\n",
       "      <td>0</td>\n",
       "      <td>0</td>\n",
       "      <td>0</td>\n",
       "      <td>0</td>\n",
       "      <td>0</td>\n",
       "      <td>...</td>\n",
       "      <td>0</td>\n",
       "      <td>0</td>\n",
       "      <td>0</td>\n",
       "      <td>0</td>\n",
       "      <td>1</td>\n",
       "      <td>1</td>\n",
       "      <td>0</td>\n",
       "      <td>0</td>\n",
       "      <td>0</td>\n",
       "      <td>0</td>\n",
       "    </tr>\n",
       "    <tr>\n",
       "      <th>7</th>\n",
       "      <td>0</td>\n",
       "      <td>1</td>\n",
       "      <td>0</td>\n",
       "      <td>0</td>\n",
       "      <td>0</td>\n",
       "      <td>0</td>\n",
       "      <td>0</td>\n",
       "      <td>0</td>\n",
       "      <td>0</td>\n",
       "      <td>0</td>\n",
       "      <td>...</td>\n",
       "      <td>0</td>\n",
       "      <td>0</td>\n",
       "      <td>1</td>\n",
       "      <td>1</td>\n",
       "      <td>0</td>\n",
       "      <td>0</td>\n",
       "      <td>1</td>\n",
       "      <td>0</td>\n",
       "      <td>0</td>\n",
       "      <td>0</td>\n",
       "    </tr>\n",
       "    <tr>\n",
       "      <th>8</th>\n",
       "      <td>0</td>\n",
       "      <td>0</td>\n",
       "      <td>0</td>\n",
       "      <td>0</td>\n",
       "      <td>0</td>\n",
       "      <td>0</td>\n",
       "      <td>0</td>\n",
       "      <td>1</td>\n",
       "      <td>1</td>\n",
       "      <td>1</td>\n",
       "      <td>...</td>\n",
       "      <td>0</td>\n",
       "      <td>1</td>\n",
       "      <td>0</td>\n",
       "      <td>1</td>\n",
       "      <td>0</td>\n",
       "      <td>0</td>\n",
       "      <td>1</td>\n",
       "      <td>0</td>\n",
       "      <td>0</td>\n",
       "      <td>0</td>\n",
       "    </tr>\n",
       "    <tr>\n",
       "      <th>9</th>\n",
       "      <td>1</td>\n",
       "      <td>0</td>\n",
       "      <td>0</td>\n",
       "      <td>0</td>\n",
       "      <td>1</td>\n",
       "      <td>0</td>\n",
       "      <td>1</td>\n",
       "      <td>0</td>\n",
       "      <td>0</td>\n",
       "      <td>0</td>\n",
       "      <td>...</td>\n",
       "      <td>0</td>\n",
       "      <td>0</td>\n",
       "      <td>0</td>\n",
       "      <td>0</td>\n",
       "      <td>0</td>\n",
       "      <td>0</td>\n",
       "      <td>0</td>\n",
       "      <td>0</td>\n",
       "      <td>0</td>\n",
       "      <td>0</td>\n",
       "    </tr>\n",
       "  </tbody>\n",
       "</table>\n",
       "<p>10 rows × 63 columns</p>\n",
       "</div>"
      ],
      "text/plain": [
       "   added  beneficial  benefit  best  better  block  changed  completely  \\\n",
       "0      0           0        1     0       0      0        0           0   \n",
       "1      0           0        0     0       0      1        0           0   \n",
       "2      0           0        0     0       0      0        0           0   \n",
       "3      0           1        0     0       0      0        0           0   \n",
       "4      0           0        0     1       0      0        0           0   \n",
       "5      0           1        0     0       0      0        0           0   \n",
       "6      0           0        0     0       0      0        0           0   \n",
       "7      0           1        0     0       0      0        0           0   \n",
       "8      0           0        0     0       0      0        0           1   \n",
       "9      1           0        0     0       1      0        1           0   \n",
       "\n",
       "   create  created  ...  try  unanticipated  update  used  useful  using  way  \\\n",
       "0       0        0  ...    0              0       0     0       0      0    0   \n",
       "1       0        0  ...    0              0       0     0       0      0    1   \n",
       "2       0        1  ...    0              0       0     0       0      0    1   \n",
       "3       0        0  ...    0              0       0     0       0      0    0   \n",
       "4       0        0  ...    1              0       0     0       1      0    1   \n",
       "5       0        0  ...    0              0       0     0       0      0    0   \n",
       "6       0        0  ...    0              0       0     0       1      1    0   \n",
       "7       0        0  ...    0              0       1     1       0      0    1   \n",
       "8       1        1  ...    0              1       0     1       0      0    1   \n",
       "9       0        0  ...    0              0       0     0       0      0    0   \n",
       "\n",
       "   well  working  writer  \n",
       "0     0        0       1  \n",
       "1     0        1       0  \n",
       "2     1        1       0  \n",
       "3     0        0       0  \n",
       "4     0        0       0  \n",
       "5     0        0       0  \n",
       "6     0        0       0  \n",
       "7     0        0       0  \n",
       "8     0        0       0  \n",
       "9     0        0       0  \n",
       "\n",
       "[10 rows x 63 columns]"
      ]
     },
     "execution_count": 32,
     "metadata": {},
     "output_type": "execute_result"
    }
   ],
   "source": [
    "temp_df"
   ]
  },
  {
   "cell_type": "code",
   "execution_count": 34,
   "id": "68255de9-be22-4e13-b9ec-f752928caef2",
   "metadata": {},
   "outputs": [
    {
     "name": "stdout",
     "output_type": "stream",
     "text": [
      "179\n"
     ]
    }
   ],
   "source": [
    "print(len(stopwords.words('english')))"
   ]
  },
  {
   "cell_type": "markdown",
   "id": "a9e8014a-b130-46a6-a109-6d258a8f8e27",
   "metadata": {},
   "source": [
    "## TF-IDF"
   ]
  },
  {
   "cell_type": "code",
   "execution_count": 35,
   "id": "9b48f413-66a6-4d88-a319-009ac374a215",
   "metadata": {
    "tags": []
   },
   "outputs": [
    {
     "data": {
      "text/plain": [
       "\"It's not only writers who can benefit from this free online tool. If you're a programmer who's working on a project where blocks of text are needed, this tool can be a great way to get that. It's a good way to test your programming and that the tool being created is working well.\\n\\nAbove are a few examples of how the random paragraph generator can be beneficial. The best way to see if this random paragraph picker will be useful for your intended purposes is to give it a try. Generate a number of paragraphs to see if they are beneficial to your current project.\\n\\nIf you do find this paragraph tool useful, please do us a favor and let us know how you're using it. It's greatly beneficial for us to know the different ways this tool is being used so we can improve it with updates. This is especially true since there are times when the generators we create get used in completely unanticipated ways from when we initially created them. If you have the time, please send us a quick note on what you'd like to see changed or added to make it better in the future.\""
      ]
     },
     "execution_count": 35,
     "metadata": {},
     "output_type": "execute_result"
    }
   ],
   "source": [
    "paragraph"
   ]
  },
  {
   "cell_type": "code",
   "execution_count": 36,
   "id": "f4d3fddf-fb3c-4611-a4e9-281af4be3fd0",
   "metadata": {
    "tags": []
   },
   "outputs": [],
   "source": [
    "import re\n",
    "from nltk.corpus import stopwords\n",
    "from nltk.stem import WordNetLemmatizer"
   ]
  },
  {
   "cell_type": "code",
   "execution_count": 37,
   "id": "ed7415de-fa9f-4871-8245-69763eb953a7",
   "metadata": {
    "tags": []
   },
   "outputs": [],
   "source": [
    "wordnet=WordNetLemmatizer()"
   ]
  },
  {
   "cell_type": "code",
   "execution_count": 38,
   "id": "336b7c80-2b13-46f1-b4c1-664c3e970504",
   "metadata": {
    "tags": []
   },
   "outputs": [],
   "source": [
    "sentences=nltk.sent_tokenize(paragraph)"
   ]
  },
  {
   "cell_type": "code",
   "execution_count": 39,
   "id": "ff3f010e-79ce-42c1-b91f-f9a6b7c08503",
   "metadata": {
    "tags": []
   },
   "outputs": [],
   "source": [
    "corpus=[]"
   ]
  },
  {
   "cell_type": "code",
   "execution_count": 59,
   "id": "2cb51270-3adf-4155-a358-3c8a54440c12",
   "metadata": {
    "tags": []
   },
   "outputs": [],
   "source": [
    "for i in range(len(sentences)):\n",
    "    rev=re.sub('[^a-zA-Z]' , ' ' , sentences[i])\n",
    "    rev=rev.lower()\n",
    "    rev=rev.split()\n",
    "    rev=[wordnet.lemmatize(word) for word in rev if word not in stopwords.words('english')]\n",
    "    rev=' '.join(rev)\n",
    "    corpus.append(rev)\n",
    "    \n",
    "    "
   ]
  },
  {
   "cell_type": "code",
   "execution_count": 58,
   "id": "5a5fcc26-c8dc-41fb-a7fc-6c9c8448267d",
   "metadata": {
    "tags": []
   },
   "outputs": [],
   "source": [
    "# ## Working of above statements :\n",
    "\n",
    "# text=\"Hello!!!!!!! all my name is Robert Downey Jr\"\n",
    "# temp=re.sub('[^a-zA-Z]' , ' ' , text)\n",
    "# temp=temp.lower()\n",
    "# temp=temp.split()\n",
    "# temp=[wornet.lemmatize(word) for word in temp if not word in stopwords.words('english')]\n",
    "# temp=\" \".join(temp)\n",
    "# print(temp)"
   ]
  },
  {
   "cell_type": "code",
   "execution_count": 62,
   "id": "a56194fe-11b6-4f98-9fba-55a60097442f",
   "metadata": {
    "tags": []
   },
   "outputs": [
    {
     "name": "stdout",
     "output_type": "stream",
     "text": [
      "['writer benefit free online tool', 'programmer working project block text needed tool great way get', 'good way test programming tool created working well', 'example random paragraph generator beneficial', 'best way see random paragraph picker useful intended purpose give try', 'generate number paragraph see beneficial current project', 'find paragraph tool useful please u favor let u know using', 'greatly beneficial u know different way tool used improve update', 'especially true since time generator create get used completely unanticipated way initially created', 'time please send u quick note like see changed added make better future', 'writer benefit free online tool', 'programmer working project block text needed tool great way get', 'good way test programming tool created working well', 'example random paragraph generator beneficial', 'best way see random paragraph picker useful intended purpose give try', 'generate number paragraph see beneficial current project', 'find paragraph tool useful please u favor let u know using', 'greatly beneficial u know different way tool used improve update', 'especially true since time generator create get used completely unanticipated way initially created', 'time please send u quick note like see changed added make better future']\n",
      "20\n"
     ]
    }
   ],
   "source": [
    "print(corpus)\n",
    "print(len(corpus))"
   ]
  },
  {
   "cell_type": "markdown",
   "id": "2b4e79ca-76e1-412b-ba67-cd7b67d69859",
   "metadata": {},
   "source": [
    "#### TF-IDF implementation"
   ]
  },
  {
   "cell_type": "code",
   "execution_count": 63,
   "id": "f189302c-a8aa-4201-ac60-4cb9c70546e2",
   "metadata": {
    "tags": []
   },
   "outputs": [],
   "source": [
    "from sklearn.feature_extraction.text import TfidfVectorizer"
   ]
  },
  {
   "cell_type": "code",
   "execution_count": 64,
   "id": "9e03b1ec-a903-47e1-8fda-01e155a53d01",
   "metadata": {
    "tags": []
   },
   "outputs": [],
   "source": [
    "tfidf=TfidfVectorizer()"
   ]
  },
  {
   "cell_type": "code",
   "execution_count": 65,
   "id": "525d474a-adb3-48ea-a1ab-cd263301bdc5",
   "metadata": {
    "tags": []
   },
   "outputs": [],
   "source": [
    "transformed=tfidf.fit_transform(corpus).toarray()"
   ]
  },
  {
   "cell_type": "code",
   "execution_count": 66,
   "id": "8a472022-33cf-4c1b-972d-6877ced7c6ca",
   "metadata": {
    "tags": []
   },
   "outputs": [
    {
     "data": {
      "text/plain": [
       "array([[0.        , 0.        , 0.48154737, ..., 0.        , 0.        ,\n",
       "        0.48154737],\n",
       "       [0.        , 0.        , 0.        , ..., 0.        , 0.29837688,\n",
       "        0.        ],\n",
       "       [0.        , 0.        , 0.        , ..., 0.40854159, 0.33769981,\n",
       "        0.        ],\n",
       "       ...,\n",
       "       [0.        , 0.27944324, 0.        , ..., 0.        , 0.        ,\n",
       "        0.        ],\n",
       "       [0.        , 0.        , 0.        , ..., 0.        , 0.        ,\n",
       "        0.        ],\n",
       "       [0.30325292, 0.        , 0.        , ..., 0.        , 0.        ,\n",
       "        0.        ]])"
      ]
     },
     "execution_count": 66,
     "metadata": {},
     "output_type": "execute_result"
    }
   ],
   "source": [
    "transformed"
   ]
  },
  {
   "cell_type": "code",
   "execution_count": 67,
   "id": "0bfe3e79-76d8-4d8b-8e06-5f43d11684e4",
   "metadata": {
    "tags": []
   },
   "outputs": [],
   "source": [
    "tfidf_df=pd.DataFrame(data=transformed , columns=cv.get_feature_names_out())"
   ]
  },
  {
   "cell_type": "code",
   "execution_count": 68,
   "id": "87dccae6-20d3-4902-a24d-e5950170b043",
   "metadata": {
    "tags": []
   },
   "outputs": [
    {
     "data": {
      "text/html": [
       "<div>\n",
       "<style scoped>\n",
       "    .dataframe tbody tr th:only-of-type {\n",
       "        vertical-align: middle;\n",
       "    }\n",
       "\n",
       "    .dataframe tbody tr th {\n",
       "        vertical-align: top;\n",
       "    }\n",
       "\n",
       "    .dataframe thead th {\n",
       "        text-align: right;\n",
       "    }\n",
       "</style>\n",
       "<table border=\"1\" class=\"dataframe\">\n",
       "  <thead>\n",
       "    <tr style=\"text-align: right;\">\n",
       "      <th></th>\n",
       "      <th>added</th>\n",
       "      <th>beneficial</th>\n",
       "      <th>benefit</th>\n",
       "      <th>best</th>\n",
       "      <th>better</th>\n",
       "      <th>block</th>\n",
       "      <th>changed</th>\n",
       "      <th>completely</th>\n",
       "      <th>create</th>\n",
       "      <th>created</th>\n",
       "      <th>...</th>\n",
       "      <th>try</th>\n",
       "      <th>unanticipated</th>\n",
       "      <th>update</th>\n",
       "      <th>used</th>\n",
       "      <th>useful</th>\n",
       "      <th>using</th>\n",
       "      <th>way</th>\n",
       "      <th>well</th>\n",
       "      <th>working</th>\n",
       "      <th>writer</th>\n",
       "    </tr>\n",
       "  </thead>\n",
       "  <tbody>\n",
       "    <tr>\n",
       "      <th>0</th>\n",
       "      <td>0.0</td>\n",
       "      <td>0.000000</td>\n",
       "      <td>0.481547</td>\n",
       "      <td>0.000000</td>\n",
       "      <td>0.0</td>\n",
       "      <td>0.00000</td>\n",
       "      <td>0.0</td>\n",
       "      <td>0.0</td>\n",
       "      <td>0.0</td>\n",
       "      <td>0.0000</td>\n",
       "      <td>...</td>\n",
       "      <td>0.000000</td>\n",
       "      <td>0.0</td>\n",
       "      <td>0.0</td>\n",
       "      <td>0.0</td>\n",
       "      <td>0.000000</td>\n",
       "      <td>0.0</td>\n",
       "      <td>0.000000</td>\n",
       "      <td>0.000000</td>\n",
       "      <td>0.000000</td>\n",
       "      <td>0.481547</td>\n",
       "    </tr>\n",
       "    <tr>\n",
       "      <th>1</th>\n",
       "      <td>0.0</td>\n",
       "      <td>0.000000</td>\n",
       "      <td>0.000000</td>\n",
       "      <td>0.000000</td>\n",
       "      <td>0.0</td>\n",
       "      <td>0.36097</td>\n",
       "      <td>0.0</td>\n",
       "      <td>0.0</td>\n",
       "      <td>0.0</td>\n",
       "      <td>0.0000</td>\n",
       "      <td>...</td>\n",
       "      <td>0.000000</td>\n",
       "      <td>0.0</td>\n",
       "      <td>0.0</td>\n",
       "      <td>0.0</td>\n",
       "      <td>0.000000</td>\n",
       "      <td>0.0</td>\n",
       "      <td>0.201765</td>\n",
       "      <td>0.000000</td>\n",
       "      <td>0.298377</td>\n",
       "      <td>0.000000</td>\n",
       "    </tr>\n",
       "    <tr>\n",
       "      <th>2</th>\n",
       "      <td>0.0</td>\n",
       "      <td>0.000000</td>\n",
       "      <td>0.000000</td>\n",
       "      <td>0.000000</td>\n",
       "      <td>0.0</td>\n",
       "      <td>0.00000</td>\n",
       "      <td>0.0</td>\n",
       "      <td>0.0</td>\n",
       "      <td>0.0</td>\n",
       "      <td>0.3377</td>\n",
       "      <td>...</td>\n",
       "      <td>0.000000</td>\n",
       "      <td>0.0</td>\n",
       "      <td>0.0</td>\n",
       "      <td>0.0</td>\n",
       "      <td>0.000000</td>\n",
       "      <td>0.0</td>\n",
       "      <td>0.228356</td>\n",
       "      <td>0.408542</td>\n",
       "      <td>0.337700</td>\n",
       "      <td>0.000000</td>\n",
       "    </tr>\n",
       "    <tr>\n",
       "      <th>3</th>\n",
       "      <td>0.0</td>\n",
       "      <td>0.394115</td>\n",
       "      <td>0.000000</td>\n",
       "      <td>0.000000</td>\n",
       "      <td>0.0</td>\n",
       "      <td>0.00000</td>\n",
       "      <td>0.0</td>\n",
       "      <td>0.0</td>\n",
       "      <td>0.0</td>\n",
       "      <td>0.0000</td>\n",
       "      <td>...</td>\n",
       "      <td>0.000000</td>\n",
       "      <td>0.0</td>\n",
       "      <td>0.0</td>\n",
       "      <td>0.0</td>\n",
       "      <td>0.000000</td>\n",
       "      <td>0.0</td>\n",
       "      <td>0.000000</td>\n",
       "      <td>0.000000</td>\n",
       "      <td>0.000000</td>\n",
       "      <td>0.000000</td>\n",
       "    </tr>\n",
       "    <tr>\n",
       "      <th>4</th>\n",
       "      <td>0.0</td>\n",
       "      <td>0.000000</td>\n",
       "      <td>0.000000</td>\n",
       "      <td>0.341401</td>\n",
       "      <td>0.0</td>\n",
       "      <td>0.00000</td>\n",
       "      <td>0.0</td>\n",
       "      <td>0.0</td>\n",
       "      <td>0.0</td>\n",
       "      <td>0.0000</td>\n",
       "      <td>...</td>\n",
       "      <td>0.341401</td>\n",
       "      <td>0.0</td>\n",
       "      <td>0.0</td>\n",
       "      <td>0.0</td>\n",
       "      <td>0.282202</td>\n",
       "      <td>0.0</td>\n",
       "      <td>0.190827</td>\n",
       "      <td>0.000000</td>\n",
       "      <td>0.000000</td>\n",
       "      <td>0.000000</td>\n",
       "    </tr>\n",
       "  </tbody>\n",
       "</table>\n",
       "<p>5 rows × 63 columns</p>\n",
       "</div>"
      ],
      "text/plain": [
       "   added  beneficial   benefit      best  better    block  changed  \\\n",
       "0    0.0    0.000000  0.481547  0.000000     0.0  0.00000      0.0   \n",
       "1    0.0    0.000000  0.000000  0.000000     0.0  0.36097      0.0   \n",
       "2    0.0    0.000000  0.000000  0.000000     0.0  0.00000      0.0   \n",
       "3    0.0    0.394115  0.000000  0.000000     0.0  0.00000      0.0   \n",
       "4    0.0    0.000000  0.000000  0.341401     0.0  0.00000      0.0   \n",
       "\n",
       "   completely  create  created  ...       try  unanticipated  update  used  \\\n",
       "0         0.0     0.0   0.0000  ...  0.000000            0.0     0.0   0.0   \n",
       "1         0.0     0.0   0.0000  ...  0.000000            0.0     0.0   0.0   \n",
       "2         0.0     0.0   0.3377  ...  0.000000            0.0     0.0   0.0   \n",
       "3         0.0     0.0   0.0000  ...  0.000000            0.0     0.0   0.0   \n",
       "4         0.0     0.0   0.0000  ...  0.341401            0.0     0.0   0.0   \n",
       "\n",
       "     useful  using       way      well   working    writer  \n",
       "0  0.000000    0.0  0.000000  0.000000  0.000000  0.481547  \n",
       "1  0.000000    0.0  0.201765  0.000000  0.298377  0.000000  \n",
       "2  0.000000    0.0  0.228356  0.408542  0.337700  0.000000  \n",
       "3  0.000000    0.0  0.000000  0.000000  0.000000  0.000000  \n",
       "4  0.282202    0.0  0.190827  0.000000  0.000000  0.000000  \n",
       "\n",
       "[5 rows x 63 columns]"
      ]
     },
     "execution_count": 69,
     "metadata": {},
     "output_type": "execute_result"
    }
   ],
   "source": [
    "tfidf_df"
   ]
  },
  {
   "cell_type": "code",
   "execution_count": null,
   "id": "fe0104a2-4c07-4689-8663-3fa143556de1",
   "metadata": {
    "tags": []
   },
   "outputs": [],
   "source": []
  },
  {
   "cell_type": "code",
   "execution_count": null,
   "id": "a5788c7f-1fb4-462d-9663-5b8d45f08670",
   "metadata": {},
   "outputs": [],
   "source": []
  }
 ],
 "metadata": {
  "kernelspec": {
   "display_name": "Python 3 (ipykernel)",
   "language": "python",
   "name": "python3"
  },
  "language_info": {
   "codemirror_mode": {
    "name": "ipython",
    "version": 3
   },
   "file_extension": ".py",
   "mimetype": "text/x-python",
   "name": "python",
   "nbconvert_exporter": "python",
   "pygments_lexer": "ipython3",
   "version": "3.11.2"
  }
 },
 "nbformat": 4,
 "nbformat_minor": 5
}
